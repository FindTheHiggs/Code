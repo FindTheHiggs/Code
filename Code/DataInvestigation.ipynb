{
 "cells": [
  {
   "cell_type": "code",
   "execution_count": 1,
   "metadata": {},
   "outputs": [],
   "source": [
    "import csv\n",
    "import pandas as pd\n",
    "import numpy as np\n",
    "import matplotlib.pyplot as plt\n",
    "from ipynb.fs.full.Functions import gen_Files, gen_ggjj\n",
    "from sklearn.datasets import dump_svmlight_file, load_svmlight_file\n",
    "from pylorentz import Momentum4"
   ]
  },
  {
   "cell_type": "code",
   "execution_count": 2,
   "metadata": {
    "scrolled": false
   },
   "outputs": [
    {
     "name": "stdout",
     "output_type": "stream",
     "text": [
      "Tight condition: 0.21\n",
      "Ptratio condition: 0.11\n",
      "Etratio condition: 0.07\n",
      "Mass condition: 0.00\n",
      "Overall: 0.32\n",
      "Done ggHout.csv\n",
      "Tight condition: 0.87\n",
      "Ptratio condition: 0.82\n",
      "Etratio condition: 0.76\n",
      "Mass condition: 0.72\n",
      "Overall: 0.99\n",
      "Done dataAout.csv\n"
     ]
    },
    {
     "name": "stderr",
     "output_type": "stream",
     "text": [
      "C:\\Users\\jamie\\CernOpenData\\Code\\Functions.ipynb:303: ComplexWarning: Casting complex values to real discards the imaginary part\n",
      "  },\n"
     ]
    },
    {
     "name": "stdout",
     "output_type": "stream",
     "text": [
      "Tight condition: 0.87\n",
      "Ptratio condition: 0.81\n",
      "Etratio condition: 0.76\n",
      "Mass condition: 0.72\n",
      "Overall: 0.99\n",
      "Done dataBout.csv\n",
      "Tight condition: 0.87\n",
      "Ptratio condition: 0.81\n",
      "Etratio condition: 0.76\n",
      "Mass condition: 0.72\n",
      "Overall: 0.99\n",
      "Done dataCout.csv\n",
      "Tight condition: 0.87\n",
      "Ptratio condition: 0.81\n",
      "Etratio condition: 0.76\n",
      "Mass condition: 0.72\n",
      "Overall: 0.99\n",
      "Done dataDout.csv\n",
      "Tight condition: 0.20\n",
      "Ptratio condition: 0.00\n",
      "Etratio condition: 0.00\n",
      "Mass condition: 0.42\n",
      "Overall: 0.53\n",
      "Done ggjj\n"
     ]
    }
   ],
   "source": [
    "#From the TBranch data, create CSV's for ggH, data(A,B,C,D), and ggjj\n",
    "gen_Files()"
   ]
  },
  {
   "cell_type": "code",
   "execution_count": 8,
   "metadata": {
    "scrolled": false
   },
   "outputs": [],
   "source": [
    "#Open a file to access the different graphs \n",
    "# df1 = pd.read_csv('./../CSVfiles/dataA.csv')\n",
    "# df2 = pd.read_csv('./../CSVfiles/dataB.csv')\n",
    "# df3 = pd.read_csv('./../CSVfiles/dataC.csv')\n",
    "# df4 = pd.read_csv('./../CSVfiles/dataD.csv')\n",
    "\n",
    "# df7 = pd.read_csv('./../CSVfiles/ggH.csv')\n",
    "# df9 = pd.read_csv('./../CSVfiles/data_yyjj_p1.csv')\n",
    "\n",
    "# df5 = pd.concat([df1,df2])\n",
    "# del df1, df2\n",
    "# df6 = pd.concat([df3,df4])\n",
    "# del df3,df4\n",
    "# df8 = pd.concat([df5,df6])\n",
    "# del df5,df6\n",
    "df = pd.read_csv('./../CSVfiles/data1516_atlas_incomplete.csv', names =['A','B','C','D','E','F',\n",
    "                                                                       'G','H','I','J','K','L',\n",
    "                                                                        'M','N','O','P','Q','R','S','T'])"
   ]
  },
  {
   "cell_type": "code",
   "execution_count": 10,
   "metadata": {
    "scrolled": true
   },
   "outputs": [
    {
     "name": "stdout",
     "output_type": "stream",
     "text": [
      "23536332\n",
      "23536332\n"
     ]
    },
    {
     "data": {
      "text/html": [
       "<div>\n",
       "<style scoped>\n",
       "    .dataframe tbody tr th:only-of-type {\n",
       "        vertical-align: middle;\n",
       "    }\n",
       "\n",
       "    .dataframe tbody tr th {\n",
       "        vertical-align: top;\n",
       "    }\n",
       "\n",
       "    .dataframe thead th {\n",
       "        text-align: right;\n",
       "    }\n",
       "</style>\n",
       "<table border=\"1\" class=\"dataframe\">\n",
       "  <thead>\n",
       "    <tr style=\"text-align: right;\">\n",
       "      <th></th>\n",
       "      <th>A</th>\n",
       "      <th>B</th>\n",
       "      <th>C</th>\n",
       "      <th>D</th>\n",
       "      <th>E</th>\n",
       "      <th>F</th>\n",
       "      <th>G</th>\n",
       "      <th>H</th>\n",
       "      <th>I</th>\n",
       "      <th>J</th>\n",
       "      <th>K</th>\n",
       "      <th>L</th>\n",
       "      <th>M</th>\n",
       "      <th>N</th>\n",
       "      <th>O</th>\n",
       "      <th>P</th>\n",
       "      <th>Q</th>\n",
       "      <th>R</th>\n",
       "      <th>S</th>\n",
       "      <th>T</th>\n",
       "    </tr>\n",
       "  </thead>\n",
       "  <tbody>\n",
       "    <tr>\n",
       "      <th>0</th>\n",
       "      <td>1</td>\n",
       "      <td>33757.7</td>\n",
       "      <td>-0.483980</td>\n",
       "      <td>-2.801560</td>\n",
       "      <td>37789.2</td>\n",
       "      <td>0</td>\n",
       "      <td>0.00000</td>\n",
       "      <td>-0.204941</td>\n",
       "      <td>1</td>\n",
       "      <td>30635.7</td>\n",
       "      <td>-1.571050</td>\n",
       "      <td>0.066368</td>\n",
       "      <td>76888.2</td>\n",
       "      <td>0</td>\n",
       "      <td>0.00000</td>\n",
       "      <td>0.883154</td>\n",
       "      <td>1</td>\n",
       "      <td>73533.1</td>\n",
       "      <td>0</td>\n",
       "      <td>NaN</td>\n",
       "    </tr>\n",
       "    <tr>\n",
       "      <th>1</th>\n",
       "      <td>1</td>\n",
       "      <td>27437.5</td>\n",
       "      <td>2.252020</td>\n",
       "      <td>2.364170</td>\n",
       "      <td>131866.0</td>\n",
       "      <td>1</td>\n",
       "      <td>0.00000</td>\n",
       "      <td>1.859900</td>\n",
       "      <td>0</td>\n",
       "      <td>25128.0</td>\n",
       "      <td>0.567773</td>\n",
       "      <td>-0.824464</td>\n",
       "      <td>29288.1</td>\n",
       "      <td>1</td>\n",
       "      <td>0.00000</td>\n",
       "      <td>0.762839</td>\n",
       "      <td>1</td>\n",
       "      <td>72251.9</td>\n",
       "      <td>0</td>\n",
       "      <td>NaN</td>\n",
       "    </tr>\n",
       "    <tr>\n",
       "      <th>2</th>\n",
       "      <td>1</td>\n",
       "      <td>39665.8</td>\n",
       "      <td>-0.466753</td>\n",
       "      <td>-1.177190</td>\n",
       "      <td>44065.6</td>\n",
       "      <td>0</td>\n",
       "      <td>20.37720</td>\n",
       "      <td>17.368500</td>\n",
       "      <td>0</td>\n",
       "      <td>31900.7</td>\n",
       "      <td>-0.263602</td>\n",
       "      <td>1.915380</td>\n",
       "      <td>33015.4</td>\n",
       "      <td>0</td>\n",
       "      <td>6.29335</td>\n",
       "      <td>3.895730</td>\n",
       "      <td>0</td>\n",
       "      <td>71490.0</td>\n",
       "      <td>0</td>\n",
       "      <td>NaN</td>\n",
       "    </tr>\n",
       "    <tr>\n",
       "      <th>3</th>\n",
       "      <td>1</td>\n",
       "      <td>70431.9</td>\n",
       "      <td>1.686390</td>\n",
       "      <td>2.799820</td>\n",
       "      <td>196685.0</td>\n",
       "      <td>0</td>\n",
       "      <td>0.00000</td>\n",
       "      <td>4.696730</td>\n",
       "      <td>0</td>\n",
       "      <td>29260.4</td>\n",
       "      <td>-0.379558</td>\n",
       "      <td>2.268950</td>\n",
       "      <td>31393.5</td>\n",
       "      <td>0</td>\n",
       "      <td>0.00000</td>\n",
       "      <td>-0.016223</td>\n",
       "      <td>1</td>\n",
       "      <td>113897.0</td>\n",
       "      <td>1</td>\n",
       "      <td>107844.0</td>\n",
       "    </tr>\n",
       "    <tr>\n",
       "      <th>4</th>\n",
       "      <td>1</td>\n",
       "      <td>37984.5</td>\n",
       "      <td>-0.694645</td>\n",
       "      <td>-1.380190</td>\n",
       "      <td>47523.3</td>\n",
       "      <td>0</td>\n",
       "      <td>21.24610</td>\n",
       "      <td>19.176700</td>\n",
       "      <td>0</td>\n",
       "      <td>37794.0</td>\n",
       "      <td>0.115699</td>\n",
       "      <td>-2.605810</td>\n",
       "      <td>38047.2</td>\n",
       "      <td>0</td>\n",
       "      <td>3.30108</td>\n",
       "      <td>2.361260</td>\n",
       "      <td>0</td>\n",
       "      <td>53805.9</td>\n",
       "      <td>2</td>\n",
       "      <td>164479.0</td>\n",
       "    </tr>\n",
       "    <tr>\n",
       "      <th>...</th>\n",
       "      <td>...</td>\n",
       "      <td>...</td>\n",
       "      <td>...</td>\n",
       "      <td>...</td>\n",
       "      <td>...</td>\n",
       "      <td>...</td>\n",
       "      <td>...</td>\n",
       "      <td>...</td>\n",
       "      <td>...</td>\n",
       "      <td>...</td>\n",
       "      <td>...</td>\n",
       "      <td>...</td>\n",
       "      <td>...</td>\n",
       "      <td>...</td>\n",
       "      <td>...</td>\n",
       "      <td>...</td>\n",
       "      <td>...</td>\n",
       "      <td>...</td>\n",
       "      <td>...</td>\n",
       "      <td>...</td>\n",
       "    </tr>\n",
       "    <tr>\n",
       "      <th>23536327</th>\n",
       "      <td>1</td>\n",
       "      <td>56220.5</td>\n",
       "      <td>-1.153330</td>\n",
       "      <td>-2.000530</td>\n",
       "      <td>97945.0</td>\n",
       "      <td>0</td>\n",
       "      <td>0.00000</td>\n",
       "      <td>2.430090</td>\n",
       "      <td>1</td>\n",
       "      <td>27623.9</td>\n",
       "      <td>-0.318445</td>\n",
       "      <td>1.502020</td>\n",
       "      <td>29036.4</td>\n",
       "      <td>0</td>\n",
       "      <td>0.00000</td>\n",
       "      <td>2.877480</td>\n",
       "      <td>0</td>\n",
       "      <td>84609.9</td>\n",
       "      <td>0</td>\n",
       "      <td>NaN</td>\n",
       "    </tr>\n",
       "    <tr>\n",
       "      <th>23536328</th>\n",
       "      <td>1</td>\n",
       "      <td>55005.8</td>\n",
       "      <td>1.258290</td>\n",
       "      <td>2.434580</td>\n",
       "      <td>104609.0</td>\n",
       "      <td>0</td>\n",
       "      <td>4.05496</td>\n",
       "      <td>0.363098</td>\n",
       "      <td>0</td>\n",
       "      <td>28411.5</td>\n",
       "      <td>1.544570</td>\n",
       "      <td>-0.766460</td>\n",
       "      <td>69598.8</td>\n",
       "      <td>0</td>\n",
       "      <td>0.00000</td>\n",
       "      <td>3.993810</td>\n",
       "      <td>0</td>\n",
       "      <td>79841.2</td>\n",
       "      <td>1</td>\n",
       "      <td>40202.9</td>\n",
       "    </tr>\n",
       "    <tr>\n",
       "      <th>23536329</th>\n",
       "      <td>1</td>\n",
       "      <td>212435.0</td>\n",
       "      <td>-0.690659</td>\n",
       "      <td>2.534260</td>\n",
       "      <td>265148.0</td>\n",
       "      <td>0</td>\n",
       "      <td>41.97700</td>\n",
       "      <td>60.829400</td>\n",
       "      <td>0</td>\n",
       "      <td>81754.2</td>\n",
       "      <td>-0.598619</td>\n",
       "      <td>-0.469114</td>\n",
       "      <td>96844.9</td>\n",
       "      <td>0</td>\n",
       "      <td>87.79520</td>\n",
       "      <td>92.538400</td>\n",
       "      <td>0</td>\n",
       "      <td>263222.0</td>\n",
       "      <td>2</td>\n",
       "      <td>96195.2</td>\n",
       "    </tr>\n",
       "    <tr>\n",
       "      <th>23536330</th>\n",
       "      <td>1</td>\n",
       "      <td>29699.8</td>\n",
       "      <td>-0.263598</td>\n",
       "      <td>0.370625</td>\n",
       "      <td>30737.6</td>\n",
       "      <td>0</td>\n",
       "      <td>6.31768</td>\n",
       "      <td>8.008660</td>\n",
       "      <td>0</td>\n",
       "      <td>24751.2</td>\n",
       "      <td>0.427607</td>\n",
       "      <td>-2.394880</td>\n",
       "      <td>27048.8</td>\n",
       "      <td>0</td>\n",
       "      <td>1.90910</td>\n",
       "      <td>7.852150</td>\n",
       "      <td>0</td>\n",
       "      <td>56595.8</td>\n",
       "      <td>1</td>\n",
       "      <td>41131.1</td>\n",
       "    </tr>\n",
       "    <tr>\n",
       "      <th>23536331</th>\n",
       "      <td>1</td>\n",
       "      <td>24411.0</td>\n",
       "      <td>0.432458</td>\n",
       "      <td>-0.685394</td>\n",
       "      <td>26729.5</td>\n",
       "      <td>0</td>\n",
       "      <td>0.00000</td>\n",
       "      <td>0.122741</td>\n",
       "      <td>1</td>\n",
       "      <td>24295.2</td>\n",
       "      <td>-0.316881</td>\n",
       "      <td>2.303080</td>\n",
       "      <td>25525.2</td>\n",
       "      <td>1</td>\n",
       "      <td>1.22830</td>\n",
       "      <td>-0.033816</td>\n",
       "      <td>0</td>\n",
       "      <td>52031.6</td>\n",
       "      <td>3</td>\n",
       "      <td>33691.6</td>\n",
       "    </tr>\n",
       "  </tbody>\n",
       "</table>\n",
       "<p>23536332 rows × 20 columns</p>\n",
       "</div>"
      ],
      "text/plain": [
       "          A         B         C         D         E  F         G          H  \\\n",
       "0         1   33757.7 -0.483980 -2.801560   37789.2  0   0.00000  -0.204941   \n",
       "1         1   27437.5  2.252020  2.364170  131866.0  1   0.00000   1.859900   \n",
       "2         1   39665.8 -0.466753 -1.177190   44065.6  0  20.37720  17.368500   \n",
       "3         1   70431.9  1.686390  2.799820  196685.0  0   0.00000   4.696730   \n",
       "4         1   37984.5 -0.694645 -1.380190   47523.3  0  21.24610  19.176700   \n",
       "...      ..       ...       ...       ...       ... ..       ...        ...   \n",
       "23536327  1   56220.5 -1.153330 -2.000530   97945.0  0   0.00000   2.430090   \n",
       "23536328  1   55005.8  1.258290  2.434580  104609.0  0   4.05496   0.363098   \n",
       "23536329  1  212435.0 -0.690659  2.534260  265148.0  0  41.97700  60.829400   \n",
       "23536330  1   29699.8 -0.263598  0.370625   30737.6  0   6.31768   8.008660   \n",
       "23536331  1   24411.0  0.432458 -0.685394   26729.5  0   0.00000   0.122741   \n",
       "\n",
       "          I        J         K         L        M  N         O          P  Q  \\\n",
       "0         1  30635.7 -1.571050  0.066368  76888.2  0   0.00000   0.883154  1   \n",
       "1         0  25128.0  0.567773 -0.824464  29288.1  1   0.00000   0.762839  1   \n",
       "2         0  31900.7 -0.263602  1.915380  33015.4  0   6.29335   3.895730  0   \n",
       "3         0  29260.4 -0.379558  2.268950  31393.5  0   0.00000  -0.016223  1   \n",
       "4         0  37794.0  0.115699 -2.605810  38047.2  0   3.30108   2.361260  0   \n",
       "...      ..      ...       ...       ...      ... ..       ...        ... ..   \n",
       "23536327  1  27623.9 -0.318445  1.502020  29036.4  0   0.00000   2.877480  0   \n",
       "23536328  0  28411.5  1.544570 -0.766460  69598.8  0   0.00000   3.993810  0   \n",
       "23536329  0  81754.2 -0.598619 -0.469114  96844.9  0  87.79520  92.538400  0   \n",
       "23536330  0  24751.2  0.427607 -2.394880  27048.8  0   1.90910   7.852150  0   \n",
       "23536331  1  24295.2 -0.316881  2.303080  25525.2  1   1.22830  -0.033816  0   \n",
       "\n",
       "                 R  S         T  \n",
       "0          73533.1  0       NaN  \n",
       "1          72251.9  0       NaN  \n",
       "2          71490.0  0       NaN  \n",
       "3         113897.0  1  107844.0  \n",
       "4          53805.9  2  164479.0  \n",
       "...            ... ..       ...  \n",
       "23536327   84609.9  0       NaN  \n",
       "23536328   79841.2  1   40202.9  \n",
       "23536329  263222.0  2   96195.2  \n",
       "23536330   56595.8  1   41131.1  \n",
       "23536331   52031.6  3   33691.6  \n",
       "\n",
       "[23536332 rows x 20 columns]"
      ]
     },
     "execution_count": 10,
     "metadata": {},
     "output_type": "execute_result"
    }
   ],
   "source": [
    "#Quick look at the data\n",
    "print(len(df[df['A']==1]))\n",
    "print(len(df))\n",
    "df\n",
    "# print('This is {} percent signal data'.format((((len(df[df['label']==1]))/len(df))*100)))"
   ]
  },
  {
   "cell_type": "code",
   "execution_count": 6,
   "metadata": {
    "scrolled": false
   },
   "outputs": [
    {
     "data": {
      "image/png": "[encoded data removed]",
      "text/plain": [
       "<Figure size 1200x600 with 1 Axes>"
      ]
     },
     "metadata": {
      "needs_background": "light"
     },
     "output_type": "display_data"
    },
    {
     "name": "stdout",
     "output_type": "stream",
     "text": [
      "0.0\n",
      "0.0\n"
     ]
    },
    {
     "data": {
      "image/png": "[encoded data removed]",
      "text/plain": [
       "<Figure size 1200x600 with 1 Axes>"
      ]
     },
     "metadata": {
      "needs_background": "light"
     },
     "output_type": "display_data"
    },
    {
     "name": "stdout",
     "output_type": "stream",
     "text": [
      "0.0\n",
      "0.0\n"
     ]
    }
   ],
   "source": [
    "#For checkng ptcone, etacone\n",
    "div1 = df['g1_ptcone']/df['g1_pt']\n",
    "div2 = df['g2_ptcone']/df['g2_pt']\n",
    "plt.figure(figsize=(12,6), dpi= 100)\n",
    "xlims=[0,0.05]\n",
    "bins = np.linspace(xlims[0],xlims[1],50,endpoint=True)\n",
    "plt.hist(div1, color = 'darkblue', bins=bins, density = True, histtype='step', linewidth=2)\n",
    "plt.hist(div2, color = 'red', bins=bins, density = True,histtype='step', linewidth=2)\n",
    "plt.show()\n",
    "\n",
    "#percent background using this cut\n",
    "print(((len(div1[div1>0.05]))/(len(div1)))*100)\n",
    "print(((len(div2[div2>0.05]))/(len(div2)))*100)\n",
    "\n",
    "div1 = df['g1_etcone']/df['g1_pt']\n",
    "div2 = df['g2_etcone']/df['g2_pt']\n",
    "plt.figure(figsize=(12,6), dpi= 100)\n",
    "xlims=[-0.07,0.07]\n",
    "bins = np.linspace(xlims[0],xlims[1],100,endpoint=True)\n",
    "plt.hist(div1, color = 'darkblue', bins=bins, histtype='step', linewidth=2)\n",
    "plt.hist(div2, color = 'red', bins=bins, histtype='step', linewidth=2)\n",
    "plt.show()\n",
    "\n",
    "#percent background using this cut\n",
    "print(((len(div1[div1>0.065]))/(len(div1)))*100)\n",
    "print(((len(div2[div2>0.065]))/(len(div2)))*100)"
   ]
  },
  {
   "cell_type": "code",
   "execution_count": 53,
   "metadata": {
    "scrolled": false
   },
   "outputs": [
    {
     "data": {
      "image/png": "[encoded data removed]",
      "text/plain": [
       "<Figure size 1200x600 with 1 Axes>"
      ]
     },
     "metadata": {
      "needs_background": "light"
     },
     "output_type": "display_data"
    },
    {
     "name": "stdout",
     "output_type": "stream",
     "text": [
      "35014.8\n",
      "25046.3\n"
     ]
    },
    {
     "data": {
      "image/png": "[encoded data removed]",
      "text/plain": [
       "<Figure size 1200x600 with 1 Axes>"
      ]
     },
     "metadata": {
      "needs_background": "light"
     },
     "output_type": "display_data"
    },
    {
     "name": "stdout",
     "output_type": "stream",
     "text": [
      "35006.3\n",
      "25000.5\n"
     ]
    }
   ],
   "source": [
    "#for checking energy values\n",
    "en1 = df['g1_E'].values\n",
    "en2 = df['g2_E'].values\n",
    "plt.figure(figsize=(12,6), dpi= 100)\n",
    "xlims=[0, 500000]\n",
    "bins = np.linspace(xlims[0],xlims[1],100,endpoint=True)\n",
    "plt.hist(en1, color = 'darkblue', bins=bins, histtype='step', linewidth=2)\n",
    "plt.hist(en2, color = 'red', bins=bins, histtype='step', linewidth=2)\n",
    "plt.show()\n",
    "\n",
    "print(min(en1))\n",
    "print(min(en2))\n",
    "\n",
    "pt1 = df['g1_pt'].values\n",
    "pt2 = df['g2_pt'].values\n",
    "plt.figure(figsize=(12,6), dpi= 100)\n",
    "xlims=[0, 250000]\n",
    "bins = np.linspace(xlims[0],xlims[1],100,endpoint=True)\n",
    "plt.hist(pt1, color = 'darkblue', bins=bins, histtype='step', linewidth=2)\n",
    "plt.hist(pt2, color = 'red', bins=bins, histtype='step', linewidth=2)\n",
    "plt.show()\n",
    "\n",
    "print(min(pt1))\n",
    "print(min(pt2))"
   ]
  },
  {
   "cell_type": "code",
   "execution_count": 9,
   "metadata": {},
   "outputs": [
    {
     "data": {
      "image/png": "[encoded data removed]",
      "text/plain": [
       "<Figure size 1200x600 with 1 Axes>"
      ]
     },
     "metadata": {
      "needs_background": "light"
     },
     "output_type": "display_data"
    }
   ],
   "source": [
    "#Inspect the angle betwqeen photons\n",
    "plt.figure(figsize=(12,6), dpi= 100)\n",
    "data_del_r = df8['photon_sep'].values\n",
    "sig_del_r = df7['photon_sep'].values\n",
    "bkg_del_r = df9['photon_sep'].values\n",
    "# sigs = df['j1_E'][df['label']==1].values\n",
    "# bkgs = df['j1_E'][df['label']==0].values\n",
    "xlims=[0, 300000]\n",
    "bins = np.linspace(xlims[0],xlims[1],100,endpoint=True)\n",
    "# plt.hist(bkgs, color = 'darkblue', histtype='step', bins=bins,linewidth=2)\n",
    "# plt.hist(sigs, color = 'red', histtype='step', bins=bins,linewidth=2)\n",
    "plt.hist(data_del_r, color = 'green', histtype='step', density=True, bins=bins,linewidth=2)\n",
    "plt.hist(sig_del_r, color = 'red', histtype='step', density=True,bins=bins,linewidth=2)\n",
    "plt.hist(bkg_del_r, color = 'blue', histtype='step', density=True,bins=bins,linewidth=2)\n",
    "plt.show()"
   ]
  },
  {
   "cell_type": "code",
   "execution_count": 5,
   "metadata": {
    "scrolled": false
   },
   "outputs": [
    {
     "data": {
      "image/png": "[encoded data removed]",
      "text/plain": [
       "<Figure size 1200x600 with 1 Axes>"
      ]
     },
     "metadata": {
      "needs_background": "light"
     },
     "output_type": "display_data"
    },
    {
     "name": "stdout",
     "output_type": "stream",
     "text": [
      "90.00003098816192\n",
      "169.9986241565011\n"
     ]
    }
   ],
   "source": [
    "#Do a plot of the mass spectrum\n",
    "plt.figure(figsize=(12,6), dpi= 100)\n",
    "inv_m = df['p_mass'].values\n",
    "# sigs = df['p_mass'][df['label']==1].values\n",
    "# bkgs = df['p_mass'][df['label']==0].values\n",
    "\n",
    "xlims=[85,175]\n",
    "bins = np.linspace(xlims[0],xlims[1],100,endpoint=True)\n",
    "# plt.hist(bkgs, color = 'darkblue', histtype='step', bins=bins,linewidth=2)\n",
    "# plt.hist(sigs, color = 'red', histtype='step', bins=bins,linewidth=2)\n",
    "plt.hist(inv_m, color = 'green', histtype='step', bins=bins,linewidth=2)\n",
    "plt.show()\n",
    "\n",
    "print(min(inv_m))\n",
    "print(max(inv_m))"
   ]
  },
  {
   "cell_type": "code",
   "execution_count": 29,
   "metadata": {},
   "outputs": [
    {
     "data": {
      "text/html": [
       "<div>\n",
       "<style scoped>\n",
       "    .dataframe tbody tr th:only-of-type {\n",
       "        vertical-align: middle;\n",
       "    }\n",
       "\n",
       "    .dataframe tbody tr th {\n",
       "        vertical-align: top;\n",
       "    }\n",
       "\n",
       "    .dataframe thead th {\n",
       "        text-align: right;\n",
       "    }\n",
       "</style>\n",
       "<table border=\"1\" class=\"dataframe\">\n",
       "  <thead>\n",
       "    <tr style=\"text-align: right;\">\n",
       "      <th></th>\n",
       "      <th>0</th>\n",
       "      <th>1</th>\n",
       "      <th>2</th>\n",
       "      <th>3</th>\n",
       "      <th>4</th>\n",
       "      <th>5</th>\n",
       "    </tr>\n",
       "  </thead>\n",
       "  <tbody>\n",
       "    <tr>\n",
       "      <th>0</th>\n",
       "      <td>28.4857</td>\n",
       "      <td>55922600.0</td>\n",
       "      <td>0.000000</td>\n",
       "      <td>1.005130</td>\n",
       "      <td>0.999523</td>\n",
       "      <td>1.005130</td>\n",
       "    </tr>\n",
       "    <tr>\n",
       "      <th>1</th>\n",
       "      <td>28.4857</td>\n",
       "      <td>55922600.0</td>\n",
       "      <td>0.351687</td>\n",
       "      <td>0.970159</td>\n",
       "      <td>0.997608</td>\n",
       "      <td>0.970159</td>\n",
       "    </tr>\n",
       "    <tr>\n",
       "      <th>2</th>\n",
       "      <td>28.4857</td>\n",
       "      <td>55922600.0</td>\n",
       "      <td>0.553627</td>\n",
       "      <td>0.988219</td>\n",
       "      <td>0.998555</td>\n",
       "      <td>0.988219</td>\n",
       "    </tr>\n",
       "    <tr>\n",
       "      <th>3</th>\n",
       "      <td>28.4857</td>\n",
       "      <td>55922600.0</td>\n",
       "      <td>0.619412</td>\n",
       "      <td>0.986910</td>\n",
       "      <td>1.000000</td>\n",
       "      <td>0.986910</td>\n",
       "    </tr>\n",
       "    <tr>\n",
       "      <th>4</th>\n",
       "      <td>28.4857</td>\n",
       "      <td>55922600.0</td>\n",
       "      <td>0.619412</td>\n",
       "      <td>1.004190</td>\n",
       "      <td>0.994923</td>\n",
       "      <td>1.004190</td>\n",
       "    </tr>\n",
       "    <tr>\n",
       "      <th>...</th>\n",
       "      <td>...</td>\n",
       "      <td>...</td>\n",
       "      <td>...</td>\n",
       "      <td>...</td>\n",
       "      <td>...</td>\n",
       "      <td>...</td>\n",
       "    </tr>\n",
       "    <tr>\n",
       "      <th>1054705</th>\n",
       "      <td>28.4857</td>\n",
       "      <td>55922600.0</td>\n",
       "      <td>1.251330</td>\n",
       "      <td>0.952824</td>\n",
       "      <td>1.000000</td>\n",
       "      <td>0.952824</td>\n",
       "    </tr>\n",
       "    <tr>\n",
       "      <th>1054706</th>\n",
       "      <td>28.4857</td>\n",
       "      <td>55922600.0</td>\n",
       "      <td>1.251330</td>\n",
       "      <td>0.990247</td>\n",
       "      <td>1.000000</td>\n",
       "      <td>0.990247</td>\n",
       "    </tr>\n",
       "    <tr>\n",
       "      <th>1054707</th>\n",
       "      <td>28.4857</td>\n",
       "      <td>55922600.0</td>\n",
       "      <td>1.214120</td>\n",
       "      <td>0.998569</td>\n",
       "      <td>1.000000</td>\n",
       "      <td>0.998569</td>\n",
       "    </tr>\n",
       "    <tr>\n",
       "      <th>1054708</th>\n",
       "      <td>28.4857</td>\n",
       "      <td>55922600.0</td>\n",
       "      <td>1.320950</td>\n",
       "      <td>0.992051</td>\n",
       "      <td>0.998649</td>\n",
       "      <td>0.992051</td>\n",
       "    </tr>\n",
       "    <tr>\n",
       "      <th>1054710</th>\n",
       "      <td>28.4857</td>\n",
       "      <td>55922600.0</td>\n",
       "      <td>1.320950</td>\n",
       "      <td>1.002900</td>\n",
       "      <td>0.999421</td>\n",
       "      <td>1.002900</td>\n",
       "    </tr>\n",
       "  </tbody>\n",
       "</table>\n",
       "<p>1045884 rows × 6 columns</p>\n",
       "</div>"
      ],
      "text/plain": [
       "               0           1         2         3         4         5\n",
       "0        28.4857  55922600.0  0.000000  1.005130  0.999523  1.005130\n",
       "1        28.4857  55922600.0  0.351687  0.970159  0.997608  0.970159\n",
       "2        28.4857  55922600.0  0.553627  0.988219  0.998555  0.988219\n",
       "3        28.4857  55922600.0  0.619412  0.986910  1.000000  0.986910\n",
       "4        28.4857  55922600.0  0.619412  1.004190  0.994923  1.004190\n",
       "...          ...         ...       ...       ...       ...       ...\n",
       "1054705  28.4857  55922600.0  1.251330  0.952824  1.000000  0.952824\n",
       "1054706  28.4857  55922600.0  1.251330  0.990247  1.000000  0.990247\n",
       "1054707  28.4857  55922600.0  1.214120  0.998569  1.000000  0.998569\n",
       "1054708  28.4857  55922600.0  1.320950  0.992051  0.998649  0.992051\n",
       "1054710  28.4857  55922600.0  1.320950  1.002900  0.999421  1.002900\n",
       "\n",
       "[1045884 rows x 6 columns]"
      ]
     },
     "execution_count": 29,
     "metadata": {},
     "output_type": "execute_result"
    }
   ],
   "source": [
    "with open('./CSVfiles/ggH_sf.data', 'rb') as f:\n",
    "    df=pickle.load(f)\n",
    "df"
   ]
  },
  {
   "cell_type": "code",
   "execution_count": 8,
   "metadata": {
    "scrolled": false
   },
   "outputs": [
    {
     "data": {
      "image/png": "[encoded data removed]",
      "text/plain": [
       "<Figure size 1200x600 with 1 Axes>"
      ]
     },
     "metadata": {
      "needs_background": "light"
     },
     "output_type": "display_data"
    },
    {
     "name": "stdout",
     "output_type": "stream",
     "text": [
      "-28.4857\n",
      "28.4857\n",
      "2285\n"
     ]
    },
    {
     "data": {
      "image/png": "[encoded data removed]",
      "text/plain": [
       "<Figure size 1200x600 with 1 Axes>"
      ]
     },
     "metadata": {
      "needs_background": "light"
     },
     "output_type": "display_data"
    },
    {
     "name": "stdout",
     "output_type": "stream",
     "text": [
      "55922600.0\n",
      "55922600.0\n"
     ]
    },
    {
     "data": {
      "image/png": "[encoded data removed]",
      "text/plain": [
       "<Figure size 1200x600 with 1 Axes>"
      ]
     },
     "metadata": {
      "needs_background": "light"
     },
     "output_type": "display_data"
    },
    {
     "name": "stdout",
     "output_type": "stream",
     "text": [
      "0.0\n",
      "3.34815\n"
     ]
    },
    {
     "data": {
      "image/png": "[encoded data removed]",
      "text/plain": [
       "<Figure size 1200x600 with 1 Axes>"
      ]
     },
     "metadata": {
      "needs_background": "light"
     },
     "output_type": "display_data"
    },
    {
     "name": "stdout",
     "output_type": "stream",
     "text": [
      "0.9209870000000001\n",
      "1.0396299999999998\n"
     ]
    },
    {
     "data": {
      "image/png": "[encoded data removed]",
      "text/plain": [
       "<Figure size 1200x600 with 1 Axes>"
      ]
     },
     "metadata": {
      "needs_background": "light"
     },
     "output_type": "display_data"
    },
    {
     "name": "stdout",
     "output_type": "stream",
     "text": [
      "0.760089\n",
      "2.54019\n"
     ]
    },
    {
     "data": {
      "image/png": "[encoded data removed]",
      "text/plain": [
       "<Figure size 1200x600 with 1 Axes>"
      ]
     },
     "metadata": {
      "needs_background": "light"
     },
     "output_type": "display_data"
    },
    {
     "name": "stdout",
     "output_type": "stream",
     "text": [
      "0.0\n",
      "1.0396299999999998\n"
     ]
    }
   ],
   "source": [
    "#Look at scale factors \n",
    "mcWeight = df[0]\n",
    "mcsum = df[1]\n",
    "pileup = df[2]\n",
    "photon = df[3]\n",
    "btag = df[4]\n",
    "phottrig = df[5]\n",
    "\n",
    "plt.figure(figsize=(12,6), dpi= 100)\n",
    "plt.hist(mcWeight, color = 'darkblue', histtype='step',linewidth=2)\n",
    "plt.show()\n",
    "\n",
    "print(min(mcWeight))\n",
    "print(max(mcWeight))\n",
    "print(len(mcWeight[mcWeight<28]))\n",
    "\n",
    "plt.figure(figsize=(12,6), dpi= 100)\n",
    "plt.hist(mcsum, color = 'darkblue', histtype='step',linewidth=2)\n",
    "plt.show()\n",
    "\n",
    "print(min(mcsum))\n",
    "print(max(mcsum))\n",
    "\n",
    "plt.figure(figsize=(12,6), dpi= 100)\n",
    "plt.hist(pileup, color = 'darkblue', histtype='step',linewidth=2)\n",
    "plt.show()\n",
    "\n",
    "print(min(pileup))\n",
    "print(max(pileup))\n",
    "\n",
    "plt.figure(figsize=(12,6), dpi= 100)\n",
    "plt.hist(photon, color = 'darkblue', histtype='step',linewidth=2)\n",
    "plt.show()\n",
    "\n",
    "print(min(photon))\n",
    "print(max(photon))\n",
    "\n",
    "plt.figure(figsize=(12,6), dpi= 100)\n",
    "plt.hist(btag, color = 'darkblue', histtype='step',linewidth=2)\n",
    "plt.show()\n",
    "\n",
    "print(min(btag))\n",
    "print(max(btag))\n",
    "\n",
    "plt.figure(figsize=(12,6), dpi= 100)\n",
    "plt.hist(phottrig, color = 'darkblue', histtype='step',linewidth=2)\n",
    "plt.show()\n",
    "\n",
    "print(min(phottrig))\n",
    "print(max(phottrig))"
   ]
  },
  {
   "cell_type": "code",
   "execution_count": null,
   "metadata": {},
   "outputs": [],
   "source": []
  }
 ],
 "metadata": {
  "kernelspec": {
   "display_name": "Python 3",
   "language": "python",
   "name": "python3"
  },
  "language_info": {
   "codemirror_mode": {
    "name": "ipython",
    "version": 3
   },
   "file_extension": ".py",
   "mimetype": "text/x-python",
   "name": "python",
   "nbconvert_exporter": "python",
   "pygments_lexer": "ipython3",
   "version": "3.8.3"
  }
 },
 "nbformat": 4,
 "nbformat_minor": 4
}
